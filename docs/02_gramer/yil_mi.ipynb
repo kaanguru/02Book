{
 "cells": [
  {
   "attachments": {},
   "cell_type": "markdown",
   "metadata": {},
   "source": [
    "# Yıl mı?"
   ]
  },
  {
   "cell_type": "code",
   "execution_count": 1,
   "metadata": {},
   "outputs": [
    {
     "data": {
      "text/plain": [
       "1"
      ]
     },
     "execution_count": 1,
     "metadata": {},
     "output_type": "execute_result"
    }
   ],
   "source": [
    "def yil_mi(yil,ay,gun,saat,dakika,saniye):\n",
    "    if 1900 < yil < 2100 and 1 <= ay <= 12 \\\n",
    "    and 1 <= gun <= 31 and 0 <= saat < 24 \\\n",
    "    and 0 <= dakika < 60 and 0 <= saniye < 60:   # geçerli bir tarih gibi görünüyor\n",
    "        return 1\n",
    "yil_mi(1950,5,30,4,5,33)"
   ]
  }
 ],
 "metadata": {
  "kernelspec": {
   "display_name": "Python 3",
   "language": "python",
   "name": "python3"
  },
  "language_info": {
   "codemirror_mode": {
    "name": "ipython",
    "version": 3
   },
   "file_extension": ".py",
   "mimetype": "text/x-python",
   "name": "python",
   "nbconvert_exporter": "python",
   "pygments_lexer": "ipython3",
   "version": "3.11.1"
  },
  "orig_nbformat": 4,
  "vscode": {
   "interpreter": {
    "hash": "fb62c4a04e18ab968c8a48ab6a208778746a101afd0f59c7fa560aaef5b3619a"
   }
  }
 },
 "nbformat": 4,
 "nbformat_minor": 2
}
